{
  "nbformat": 4,
  "nbformat_minor": 0,
  "metadata": {
    "colab": {
      "provenance": []
    },
    "kernelspec": {
      "name": "python3",
      "display_name": "Python 3"
    },
    "language_info": {
      "name": "python"
    }
  },
  "cells": [
    {
      "cell_type": "markdown",
      "source": [
        "# 1. What is the difference between a function and a method in Python?\n",
        "\n",
        "#  Function\n",
        "\n",
        "A function is a block of code that performs a specific task.\n",
        "\n",
        "It is defined using the def keyword.\n",
        "\n",
        "Functions are not associated with any object or class unless explicitly passed one.\n",
        "\n",
        "Can be called independently.\n",
        "\n",
        "def greet(name):\n",
        "\n",
        "    return f\"Hello, {name}!\"\n",
        "\n",
        "greet(\"Alice\")  # Output: \"Hello, Alice!\"\n",
        "\n",
        "#  Method\n",
        "   \n",
        "A method is a function that is associated with an object.\n",
        "\n",
        "Defined within a class and takes at least one parameter (self for instance methods).\n",
        "\n",
        "Called on an object (instance) of the class.\n",
        "\n",
        "    class Person:\n",
        "\n",
        "       def greet(self, name):\n",
        "    \n",
        "           return f\"Hello, {name}!\"\n",
        "\n",
        "    p = Person()\n",
        "\n",
        "    p.greet(\"Bob\")  # Output: \"Hello, Bob!\"\n"
      ],
      "metadata": {
        "id": "wNvcTwjsD2wU"
      }
    },
    {
      "cell_type": "markdown",
      "source": [
        "# 2. Explain the concept of function arguments and parameters in Python.\n",
        "\n",
        "# Parameters:\n",
        "\n",
        "These are variables listed in the function definition.\n",
        "\n",
        "They act as placeholders for the values (arguments) you pass to the function.\n",
        "\n",
        "Example:\n",
        "\n",
        "def greet(name):  # 'name' is a parameter\n",
        "\n",
        "    print(f\"Hello, {name}!\")\n",
        "    \n",
        "# Arguments:\n",
        "\n",
        "These are the actual values passed to a function when it is called.\n",
        "\n",
        "They get assigned to the corresponding parameters.\n",
        "\n",
        "greet(\"Alice\")  # \"Alice\" is the argument\n"
      ],
      "metadata": {
        "id": "0wZ9_S8nD8Y8"
      }
    },
    {
      "cell_type": "markdown",
      "source": [
        "# 3. What are the different ways to define and call a function in Python?\n",
        "\n",
        " # Ways to Define a Function\n",
        "\n",
        "1. Standard Function Definition\n",
        "\n",
        "def greet(name):\n",
        "\n",
        "    return f\"Hello, {name}!\"\n",
        "    \n",
        "2. Function with Default Parameters\n",
        "\n",
        "def greet(name=\"Guest\"):\n",
        "\n",
        "    return f\"Hello, {name}!\"\n",
        "    \n",
        "3. Function with Variable-length Arguments\n",
        "\n",
        "def show(*args, **kwargs):\n",
        "\n",
        "    print(args)\n",
        "    \n",
        "    print(kwargs)\n",
        "    \n",
        "4. Lambda Function (Anonymous)\n",
        "\n",
        "5. Short, one-expression functions.\n",
        "\n",
        "add = lambda x, y: x + y\n",
        "\n",
        "# Ways to Call a Function\n",
        "\n",
        "1. Positional Arguments\n",
        "\n",
        "def add(a, b):\n",
        "\n",
        "    return a + b\n",
        "\n",
        "    add(2, 3)  # Output: 5\n",
        "\n",
        "2. Keyword Arguments\n",
        "\n",
        "        add(a=2, b=3)  # Output: 5\n",
        "\n",
        "3. **Using *args and kwargs to Call Functions\n",
        "\n",
        "       def add(a, b):\n",
        "\n",
        "        return a + b\n",
        "\n",
        "       args = (2, 3)\n",
        "\n",
        "       kwargs = {'a': 2, 'b': 3}\n",
        "\n",
        "       add(*args)      # Output: 5\n",
        "\n",
        "       add(**kwargs)   # Output: 5\n",
        "\n",
        "4. Calling Lambda Functions\n",
        "\n",
        "       multiply = lambda x, y: x * y\n",
        "\n",
        "       multiply(4, 5)  # Output: 20\n",
        "\n",
        "5. Calling Methods (Functions within Classes)\n",
        "\n",
        "       class Person:\n",
        "\n",
        "        def greet(self, name):\n",
        "    \n",
        "          return f\"Hi, {name}!\"\n",
        "\n",
        "       p = Person()\n",
        "\n",
        "       p.greet(\"John\")  # Output: \"Hi, John!\"\n"
      ],
      "metadata": {
        "id": "bBXvNeIUDuJT"
      }
    },
    {
      "cell_type": "markdown",
      "source": [
        "# 4. What is the purpose of the `return` statement in a Python function?\n",
        "\n",
        "When a function finishes executing, the return statement lets it pass a value (or multiple values) back to wherever the function was called.\n",
        "\n",
        "# Why use return?\n",
        "\n",
        "Provide output from the function:\n",
        "\n",
        "\n",
        "    def add(a, b):\n",
        "    \n",
        "    return a + b\n",
        "\n",
        "    result = add(3, 5)  # result = 8\n",
        "\n",
        "End the function early:\n",
        "\n",
        "Once return is hit, the function immediately stops running, even if there’s more code after it.\n",
        "\n",
        "    def check(num\n",
        "\n",
        "    if num > 0:\n",
        "    \n",
        "        return \"Positive\"\n",
        "        \n",
        "    return \"Non-positive\"\n",
        "    \n",
        "Return multiple values (as a tuple):\n",
        "\n",
        "    def stats(x, y):\n",
        "\n",
        "    return x + y, x * y\n",
        "\n",
        "total, product = stats(2, 3)  # total = 5, product = 6\n"
      ],
      "metadata": {
        "id": "x36V6kD8EGlL"
      }
    },
    {
      "cell_type": "markdown",
      "source": [
        "# 5. What are iterators in Python and how do they differ from iterables?\n",
        "\n",
        "# Iterable\n",
        "\n",
        "An iterable is any object that can return an iterator.\n",
        "\n",
        "It implements the __iter__() method.\n",
        "\n",
        "Examples: list, tuple, str, dict, set, etc.\n",
        "\n",
        "my_list = [1, 2, 3]\n",
        "\n",
        "for item in my_list:  # my_list is iterable\n",
        "\n",
        "    print(item)\n",
        "    \n",
        "You can get an iterator from an iterable like this:\n",
        "\n",
        "iterator = iter(my_list)\n",
        "\n",
        "# Iterator\n",
        "\n",
        "An iterator is an object that produces the next value when you call next() on it.\n",
        "\n",
        "It implements both __iter__() and __next__() methods.\n",
        "\n",
        "\n",
        "iterator = iter([1, 2, 3])  # Creates an iterator\n",
        "\n",
        "print(next(iterator))  # 1\n",
        "\n",
        "print(next(iterator))  # 2\n",
        "\n",
        "print(next(iterator))  # 3\n",
        "\n",
        " next(iterator) now raises StopIteration\n"
      ],
      "metadata": {
        "id": "x-GnOBlzEYxj"
      }
    },
    {
      "cell_type": "markdown",
      "source": [
        "# 6. Explain the concept of generators in Python and how they are defined.\n",
        "\n",
        "A generator is a special type of iterator that yields values one at a time using the yield keyword, pausing the function’s state between each call. Unlike regular functions that return once with return, a generator remembers where it left off.\n",
        "\n",
        "# How Are Generators Defined?\n",
        "\n",
        "There are two main ways to create a generator:\n",
        "\n",
        "1. Generator Functions (using yield)\n",
        "\n",
        "       def count_up_to(n):\n",
        "           count = 1\n",
        "       while count <= n:\n",
        "           yield count\n",
        "           count += 1\n",
        "        \n",
        "Calling count_up_to(5) doesn’t run the function immediately—it returns a\n",
        "\n",
        "generator object:\n",
        "\n",
        "    gen = count_up_to(5)\n",
        "    print(next(gen))  # Output: 1\n",
        "    print(next(gen))  # Output: 2\n",
        "Each next() call resumes execution where yield was last called.\n",
        "\n",
        "2. Generator Expressions (similar to list comprehensions)\n",
        "\n",
        "        gen = (x * x for x in range(5))\n",
        "  \n",
        "This is a concise way to define simple generators. It looks like a list comprehension but uses parentheses instead of brackets.\n",
        "\n",
        "# How Are Generators Defined?\n",
        "\n",
        "There are two main ways to create a generator:\n",
        "\n",
        "1. Generator Functions (using yield)\n",
        "\n",
        "       def count_up_to(n):\n",
        "         count = 1\n",
        "       while count <= n:\n",
        "           yield count\n",
        "           count += 1\n",
        "Calling count_up_to(5) doesn’t run the function immediately—it returns a generator object:\n",
        "\n",
        "\n",
        "     gen = count_up_to(5)\n",
        "     print(next(gen))  # Output: 1\n",
        "     print(next(gen))  # Output: 2\n",
        "Each next() call resumes execution where yield was last called.\n",
        "\n",
        "2. Generator Expressions (similar to list comprehensions)\n",
        "\n",
        "       gen = (x * x for x in range(5))\n",
        "This is a concise way to define simple generators. It looks like a list comprehension but uses parentheses instead of brackets.\n"
      ],
      "metadata": {
        "id": "jmwjOzHUEk8j"
      }
    },
    {
      "cell_type": "markdown",
      "source": [
        "# 7. What are the advantages of using generators over regular functions?\n",
        "1. Memory Efficiency\n",
        "2. Lazy Evaluation\n",
        "3. Infinite Sequences\n",
        "4. Performance Boost\n",
        "5. Clean Syntax for Iterators\n",
        "6. Pipeline Friendly\n"
      ],
      "metadata": {
        "id": "h1KgPU-yErxb"
      }
    },
    {
      "cell_type": "markdown",
      "source": [
        "# 8. What is a lambda function in Python and when is it typically used?\n",
        "A lambda function in Python is a small, anonymous function defined using the lambda keyword. It's used to create simple, one-line functions without formally defining them using def.\n",
        "\n",
        "Syntax:\n",
        "\n",
        "lambda arguments: expression\n",
        "\n",
        "Example:\n",
        "\n",
        "    add = lambda x, y: x + y\n",
        "    print(add(2, 3))  # Output: 5\n",
        "\n",
        "# When is it typically used?\n",
        "Lambda functions are often used in situations where a simple function is needed temporarily, especially:\n",
        "\n",
        "With built-in functions like map(), filter(), and sorted():\n",
        "\n",
        "    numbers = [1, 2, 3, 4, 5]\n",
        "    squares = list(map(lambda x: x**2, numbers))\n",
        "    \n",
        "As a key in sorting:\n",
        "\n",
        "    data = [(1, 'b'), (2, 'a'), (3, 'c')]\n",
        "    sorted_data = sorted(data, key=lambda x: x[1])\n",
        "\n",
        "In GUI or callback code where you need to pass a small function.\n"
      ],
      "metadata": {
        "id": "CoZzsWXyEuOx"
      }
    },
    {
      "cell_type": "markdown",
      "source": [
        "# 9. Explain the purpose and usage of the `map()` function in Python.\n",
        "# Purpose of map()\n",
        "The main goal is to transform data without writing an explicit loop. It promotes a functional programming style, making the code cleaner and more concise.\n",
        "\n",
        " Syntax\n",
        "\n",
        "map(function, iterable)\n",
        "\n",
        "function: A function that will be applied to every item in the iterable.\n",
        "\n",
        "iterable: An iterable (e.g., list, tuple) whose elements will be passed to the function.\n",
        "\n",
        "You can also pass multiple iterables if the function takes multiple arguments.\n",
        "\n",
        " Example Usage\n",
        "\n",
        "Example 1: Square each number in a list\n",
        "\n",
        " def square(x):\n",
        "  return x * x\n",
        "\n",
        "    numbers = [1, 2, 3, 4]\n",
        "    squared = map(square, numbers)\n",
        "\n",
        "    print(list(squared))  # Output: [1, 4, 9, 16]\n",
        "\n",
        "Example 2: Using lambda with map()\n",
        "\n",
        "    numbers = [1, 2, 3, 4]\n",
        "    squared = map(lambda x: x * x, numbers)\n",
        "\n",
        "    print(list(squared))  # Output: [1, 4, 9, 16]\n",
        "\n",
        "Example 3: Using multiple iterables\n",
        "\n",
        "    a = [1, 2, 3]\n",
        "    b = [4, 5, 6]\n",
        "\n",
        "     result = map(lambda x, y: x + y, a, b)\n",
        "    print(list(result))  # Output: [5, 7, 9]\n"
      ],
      "metadata": {
        "id": "ntC0feSNEyry"
      }
    },
    {
      "cell_type": "markdown",
      "source": [
        "# 10. What is the difference between `map()`, `reduce()`, and `filter()` functions in Python?\n",
        "\n",
        "1. map() – Transform each element\n",
        "Purpose: Applies a function to each item in an iterable.\n",
        "\n",
        "Output: A new iterable (map object) with the same length as the input.\n",
        "\n",
        "Example:\n",
        "\n",
        "numbers = [1, 2, 3, 4]\n",
        "squared = list(map(lambda x: x**2, numbers))\n",
        "# Output: [1, 4, 9, 16]\n",
        "\n",
        "2. filter() – Filter elements based on a condition\n",
        "Purpose: Applies a function that returns True or False to each item, keeping only the items for which the function returns True.\n",
        "\n",
        "Output: A new iterable with fewer or equal elements than the original.\n",
        "\n",
        "Example:\n",
        "\n",
        "numbers = [1, 2, 3, 4]\n",
        "even = list(filter(lambda x: x % 2 == 0, numbers))\n",
        "# Output: [2, 4]\n",
        "\n",
        "3. reduce() – Reduce a sequence to a single value\n",
        "Purpose: Applies a function cumulatively to the items in the iterable, reducing them to a single value.\n",
        "\n",
        "    Output: A single value.\n",
        "\n",
        "reduce() is not built-in anymore in Python 3 – it must be imported from functools.\n",
        "\n",
        "Example:\n",
        "\n",
        "from functools import reduce\n",
        "\n",
        "numbers = [1, 2, 3, 4]\n",
        "product = reduce(lambda x, y: x * y, numbers)\n",
        "# Output: 24\n"
      ],
      "metadata": {
        "id": "jEwIzqvCE9Jk"
      }
    },
    {
      "cell_type": "markdown",
      "source": [
        "# 11. Using pen & Paper write the internal mechanism for sum operation using  reduce function on this given\n",
        "# list:[47,11,42,13];\n",
        "# (Attach paper image for this answer) in doc or colab notebook.\n",
        "\n",
        "# Function Definition\n",
        "\n",
        "     from functools import reduce\n",
        "     reduce(lambda x, y: x + y, [47, 11, 42, 13])\n",
        "     \n",
        "We are using a lambda function that adds two values: lambda x, y: x + y.\n",
        "\n",
        "Initial List:\n",
        "\n",
        "    [47, 11, 42, 13]\n",
        "    \n",
        "Step 1: (47 + 11) = 58\n",
        "Step 2: (58 + 42) = 100\n",
        "Step 3: (100 + 13) = 113\n",
        "     \n",
        "# Visualization:\n",
        "You can also think like this:\n",
        "\n",
        "     reduce(lambda x, y: x + y, [47, 11, 42, 13])\n",
        "\n",
        "    = (((47 + 11) + 42) + 13)\n",
        "    = ((58 + 42) + 13)\n",
        "    = (100 + 13)\n",
        "    = 113\n"
      ],
      "metadata": {
        "id": "bXb5iuA3FTYR"
      }
    },
    {
      "cell_type": "markdown",
      "source": [
        "Practical Questions:"
      ],
      "metadata": {
        "id": "iqlLV9rpFaQa"
      }
    },
    {
      "cell_type": "code",
      "source": [
        "# 1. Write a Python function that takes a list of numbers as input and returns the sum of all even numbers in the list.\n",
        "\n",
        "def sum_even_numbers(numbers):\n",
        "    return sum(num for num in numbers if num % 2 == 0)\n"
      ],
      "metadata": {
        "id": "B4W1gU70Fcei"
      },
      "execution_count": 2,
      "outputs": []
    },
    {
      "cell_type": "code",
      "source": [
        "my_list = [1, 2, 3, 4, 5, 6]\n",
        "result = sum_even_numbers(my_list)\n",
        "print(result)"
      ],
      "metadata": {
        "colab": {
          "base_uri": "https://localhost:8080/"
        },
        "id": "hD9WtRJTFf_l",
        "outputId": "8866983c-4b0f-4f05-90e1-dbebd37b375d"
      },
      "execution_count": 3,
      "outputs": [
        {
          "output_type": "stream",
          "name": "stdout",
          "text": [
            "12\n"
          ]
        }
      ]
    },
    {
      "cell_type": "code",
      "source": [
        "# 2. Create a Python function that accepts a string and returns the reverse of that string.\n",
        "\n",
        "def reverse_string(s):\n",
        "    reversed_s = \"\"\n",
        "    for char in s:\n",
        "        reversed_s = char + reversed_s\n",
        "    return reversed_s\n",
        "\n",
        "print(reverse_string(\"hello\"))  # Output: \"olleh\""
      ],
      "metadata": {
        "colab": {
          "base_uri": "https://localhost:8080/"
        },
        "id": "V9rD3ek7FiUx",
        "outputId": "5e16cea1-b201-4aa6-805a-69982e86678a"
      },
      "execution_count": 4,
      "outputs": [
        {
          "output_type": "stream",
          "name": "stdout",
          "text": [
            "olleh\n"
          ]
        }
      ]
    },
    {
      "cell_type": "code",
      "source": [
        "# 3. Implement a Python function that takes a list of integers and returns a new list containing the squares of each number.\n",
        "\n",
        "def square_numbers(numbers):\n",
        "    result = []\n",
        "    for num in numbers:\n",
        "        result.append(num * num)\n",
        "    return result\n",
        "\n",
        "my_list = [1, 2, 3, 4]\n",
        "print(square_numbers(my_list))\n"
      ],
      "metadata": {
        "colab": {
          "base_uri": "https://localhost:8080/"
        },
        "id": "XsBJxZIDFm09",
        "outputId": "c0ac2b97-9128-4b1b-f62f-6039f7a130ec"
      },
      "execution_count": 5,
      "outputs": [
        {
          "output_type": "stream",
          "name": "stdout",
          "text": [
            "[1, 4, 9, 16]\n"
          ]
        }
      ]
    },
    {
      "cell_type": "code",
      "source": [
        "# 4. Write a Python function that checks if a given number is prime or not from 1 to 200.\n",
        "def is_prime(n):\n",
        "    if n < 2:\n",
        "        return False\n",
        "    for i in range(2, n):\n",
        "        if n % i == 0:\n",
        "            return False\n",
        "    return True"
      ],
      "metadata": {
        "id": "KZCpj66EFomz"
      },
      "execution_count": 6,
      "outputs": []
    },
    {
      "cell_type": "code",
      "source": [
        "for number in range(1, 201):\n",
        "    if is_prime(number):\n",
        "        print(number, \"is a prime number\")\n"
      ],
      "metadata": {
        "colab": {
          "base_uri": "https://localhost:8080/"
        },
        "id": "vYFdFSbNFtjJ",
        "outputId": "4d8c0199-d21e-4b4c-90fd-3c0676fb38e9"
      },
      "execution_count": 7,
      "outputs": [
        {
          "output_type": "stream",
          "name": "stdout",
          "text": [
            "2 is a prime number\n",
            "3 is a prime number\n",
            "5 is a prime number\n",
            "7 is a prime number\n",
            "11 is a prime number\n",
            "13 is a prime number\n",
            "17 is a prime number\n",
            "19 is a prime number\n",
            "23 is a prime number\n",
            "29 is a prime number\n",
            "31 is a prime number\n",
            "37 is a prime number\n",
            "41 is a prime number\n",
            "43 is a prime number\n",
            "47 is a prime number\n",
            "53 is a prime number\n",
            "59 is a prime number\n",
            "61 is a prime number\n",
            "67 is a prime number\n",
            "71 is a prime number\n",
            "73 is a prime number\n",
            "79 is a prime number\n",
            "83 is a prime number\n",
            "89 is a prime number\n",
            "97 is a prime number\n",
            "101 is a prime number\n",
            "103 is a prime number\n",
            "107 is a prime number\n",
            "109 is a prime number\n",
            "113 is a prime number\n",
            "127 is a prime number\n",
            "131 is a prime number\n",
            "137 is a prime number\n",
            "139 is a prime number\n",
            "149 is a prime number\n",
            "151 is a prime number\n",
            "157 is a prime number\n",
            "163 is a prime number\n",
            "167 is a prime number\n",
            "173 is a prime number\n",
            "179 is a prime number\n",
            "181 is a prime number\n",
            "191 is a prime number\n",
            "193 is a prime number\n",
            "197 is a prime number\n",
            "199 is a prime number\n"
          ]
        }
      ]
    },
    {
      "cell_type": "code",
      "source": [
        "# 5. Create an iterator class in Python that generates the Fibonacci sequence up to a specified number of terms.\n",
        "def myfact(n):\n",
        "    myfact = 1\n",
        "    for i in range(1,n+1):\n",
        "        myfact = myfact * i\n",
        "    return myfact"
      ],
      "metadata": {
        "id": "xBSafcwOFwFW"
      },
      "execution_count": 8,
      "outputs": []
    },
    {
      "cell_type": "code",
      "source": [
        "myfact(7)"
      ],
      "metadata": {
        "colab": {
          "base_uri": "https://localhost:8080/"
        },
        "id": "iIKJyNDtF0jg",
        "outputId": "6666b626-dc12-4254-922e-e52b1fd94559"
      },
      "execution_count": 9,
      "outputs": [
        {
          "output_type": "execute_result",
          "data": {
            "text/plain": [
              "5040"
            ]
          },
          "metadata": {},
          "execution_count": 9
        }
      ]
    },
    {
      "cell_type": "code",
      "source": [
        "# 6. Write a generator function in Python that yields the powers of 2 up to a given exponent\n",
        "\n",
        "def powers_of_two(n):\n",
        "    for i in range(n + 1):\n",
        "        yield 2 ** i\n"
      ],
      "metadata": {
        "id": "A8zNnACnF2I5"
      },
      "execution_count": 10,
      "outputs": []
    },
    {
      "cell_type": "code",
      "source": [
        "for power in powers_of_two(5):\n",
        "    print(power)"
      ],
      "metadata": {
        "colab": {
          "base_uri": "https://localhost:8080/"
        },
        "id": "r0Jgr3caF5YU",
        "outputId": "201fb872-1b6d-4c40-9d4c-6c076ffe617e"
      },
      "execution_count": 11,
      "outputs": [
        {
          "output_type": "stream",
          "name": "stdout",
          "text": [
            "1\n",
            "2\n",
            "4\n",
            "8\n",
            "16\n",
            "32\n"
          ]
        }
      ]
    },
    {
      "cell_type": "code",
      "source": [
        "#  8. Use a lambda function in Python to sort a list of tuples based on the second element of each tuple\n",
        "\n",
        "# List of tuples\n",
        "tuples_list = [(1, 3), (2, 1), (4, 2), (3, 4)]\n",
        "\n",
        "# Sort using lambda function based on the second element of each tuple\n",
        "sorted_list = sorted(tuples_list, key=lambda x: x[1])\n",
        "\n",
        "print(sorted_list)"
      ],
      "metadata": {
        "colab": {
          "base_uri": "https://localhost:8080/"
        },
        "id": "pIYYWpyIGCA5",
        "outputId": "af00f6c6-f42b-4648-e66d-8d41cd521083"
      },
      "execution_count": 17,
      "outputs": [
        {
          "output_type": "stream",
          "name": "stdout",
          "text": [
            "[(2, 1), (4, 2), (1, 3), (3, 4)]\n"
          ]
        }
      ]
    },
    {
      "cell_type": "code",
      "source": [
        "# 7. Implement a generator function that reads a file line by line and yields each line as a string.\n",
        "\n",
        "def read_file_lines(filename):\n",
        "    with open(filename, 'r') as file:\n",
        "        for line in file:\n",
        "            yield line"
      ],
      "metadata": {
        "id": "5IR2wrD5F7z3"
      },
      "execution_count": 12,
      "outputs": []
    },
    {
      "cell_type": "code",
      "source": [
        "for line in read_file_lines(\"example.txt\"):\n",
        "    print(line)"
      ],
      "metadata": {
        "id": "jpuKOphvHSdb"
      },
      "execution_count": null,
      "outputs": []
    },
    {
      "cell_type": "code",
      "source": [
        "# 9. Write a Python program that uses `map()` to convert a list of temperatures from Celsius to Fahrenheit.\n",
        "# List of temperatures in Celsius\n",
        "celsius_temps = [0, 20, 25, 30, 35]\n",
        "\n",
        "# Convert Celsius to Fahrenheit using map() and a lambda function\n",
        "fahrenheit_temps = list(map(lambda c: (c * 9/5) + 32, celsius_temps))\n",
        "\n",
        "print(fahrenheit_temps)"
      ],
      "metadata": {
        "colab": {
          "base_uri": "https://localhost:8080/"
        },
        "id": "tUzxgaCuGbTT",
        "outputId": "131da5b4-c5ff-4f26-8f4b-2df7e1847369"
      },
      "execution_count": 18,
      "outputs": [
        {
          "output_type": "stream",
          "name": "stdout",
          "text": [
            "[32.0, 68.0, 77.0, 86.0, 95.0]\n"
          ]
        }
      ]
    },
    {
      "cell_type": "code",
      "source": [
        "# 10. Create a Python program that uses `filter()` to remove all the vowels from a given string.\n",
        "# Given string\n",
        "input_string = \"Hello, World!\"\n",
        "\n",
        "# Function to filter out vowels\n",
        "def remove_vowels(char):\n",
        "    vowels = \"aeiouAEIOU\"\n",
        "    return char not in vowels\n",
        "\n",
        "# Use filter to remove vowels and join the result to form a new string\n",
        "filtered_string = ''.join(filter(remove_vowels, input_string))\n",
        "\n",
        "print(filtered_string)"
      ],
      "metadata": {
        "colab": {
          "base_uri": "https://localhost:8080/"
        },
        "id": "2o6ASGPOGd_X",
        "outputId": "c98371a9-9674-4cef-a21e-17d0d1579195"
      },
      "execution_count": 19,
      "outputs": [
        {
          "output_type": "stream",
          "name": "stdout",
          "text": [
            "Hll, Wrld!\n"
          ]
        }
      ]
    },
    {
      "cell_type": "code",
      "source": [
        "# 11) Imagine an accounting routine used in a book shop. It works on a list with sublists, which look like this:\n",
        "# Order Number    Book Title and author                 Quantity     Price per Item\n",
        "#  34587          Learning Python, Mark Lutz              4            40.95\n",
        "#  98762          Programming Python, Mark Lutz           5            56.80\n",
        "#  77226           Head First Python , Paul Barry         3            32.95\n",
        "#  81112          Einfuhrung in Python3, Bernd Klein      3            24.99\n",
        "\n",
        "\n",
        "#Write a Python program, which returns a list with 2-tuples. Each tuple consists of the order number and the product of the price per item and the quantity. The product should be increased by 10,- € if the value of the\n",
        "#order is smaller than 100,00 €.\n",
        "\n",
        "#Write a Python program using lambda and map."
      ],
      "metadata": {
        "id": "tupsVNf3GgxT"
      },
      "execution_count": 20,
      "outputs": []
    },
    {
      "cell_type": "code",
      "source": [
        "# List of orders with sublists containing Order Number, Book Title, Quantity, and Price per Item\n",
        "orders = [\n",
        "    [34587, \"Learning Python, Mark Lutz\", 4, 40.95],\n",
        "    [98762, \"Programming Python, Mark Lutz\", 5, 56.80],\n",
        "    [77226, \"Head First Python, Paul Barry\", 3, 32.95],\n",
        "    [81112, \"Einfuhrung in Python3, Bernd Klein\", 3, 24.99]\n",
        "]\n",
        "\n",
        "# Function to calculate the price and apply the additional 10€ if the order is less than 100€\n",
        "def calculate_order(order):\n",
        "    order_number = order[0]\n",
        "    quantity = order[2]\n",
        "    price_per_item = order[3]\n",
        "    total_price = quantity * price_per_item\n",
        "\n",
        "    # Add 10€ if total price is less than 100€\n",
        "    if total_price < 100:\n",
        "        total_price += 10\n",
        "\n",
        "    return (order_number, total_price)\n",
        "\n",
        "# Using map with lambda to apply the calculation to each order\n",
        "result = list(map(lambda order: calculate_order(order), orders))\n",
        "\n",
        "# Output the result\n",
        "print(result)\n"
      ],
      "metadata": {
        "colab": {
          "base_uri": "https://localhost:8080/"
        },
        "id": "apxavt9DGudj",
        "outputId": "2ed7bba6-547a-407b-d4ee-68d3c317f4ff"
      },
      "execution_count": 25,
      "outputs": [
        {
          "output_type": "stream",
          "name": "stdout",
          "text": [
            "[(34587, 163.8), (98762, 284.0), (77226, 108.85000000000001), (81112, 84.97)]\n"
          ]
        }
      ]
    },
    {
      "cell_type": "code",
      "source": [],
      "metadata": {
        "id": "g2YfsYECHAZi"
      },
      "execution_count": null,
      "outputs": []
    }
  ]
}